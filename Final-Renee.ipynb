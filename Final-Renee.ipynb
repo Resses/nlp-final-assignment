{
 "cells": [
  {
   "cell_type": "code",
   "execution_count": 3,
   "metadata": {
    "collapsed": false
   },
   "outputs": [],
   "source": [
    "import nltk\n",
    "import sklearn\n",
    "import sklearn_crfsuite\n",
    "from sklearn_crfsuite import scorers\n",
    "from sklearn_crfsuite import metrics"
   ]
  },
  {
   "cell_type": "code",
   "execution_count": 26,
   "metadata": {
    "collapsed": false
   },
   "outputs": [],
   "source": [
    "import gensim"
   ]
  },
  {
   "cell_type": "markdown",
   "metadata": {},
   "source": [
    "# Read data"
   ]
  },
  {
   "cell_type": "code",
   "execution_count": 7,
   "metadata": {
    "collapsed": true
   },
   "outputs": [],
   "source": [
    "def read_file(file_name):\n",
    "    with open(file_name) as f:\n",
    "        data = []\n",
    "        data_temp = []\n",
    "        labels = []\n",
    "        labels_temp = []\n",
    "\n",
    "        for line in f.read().splitlines():\n",
    "            if line != '':  \n",
    "                a = line.split('\\t')\n",
    "                data_temp.append(a[0])\n",
    "                labels_temp.append(a[1])\n",
    "            else:\n",
    "                data.append(data_temp)\n",
    "                labels.append(labels_temp)\n",
    "                data_temp = []\n",
    "                labels_temp = []\n",
    "\n",
    "    f.close()\n",
    "    return data, labels"
   ]
  },
  {
   "cell_type": "code",
   "execution_count": 8,
   "metadata": {
    "collapsed": true
   },
   "outputs": [],
   "source": [
    "def read_no_labels(test_file_name):\n",
    "    with open(test_file_name) as f:\n",
    "        data = []\n",
    "        data_temp = []\n",
    "\n",
    "        for line in f.read().splitlines():\n",
    "            if line != '':  \n",
    "                data_temp.append(line)\n",
    "            else:\n",
    "                data.append(data_temp)\n",
    "                data_temp = []\n",
    "    f.close()\n",
    "    return data"
   ]
  },
  {
   "cell_type": "code",
   "execution_count": 32,
   "metadata": {
    "collapsed": false
   },
   "outputs": [],
   "source": [
    "train_data, train_labels = read_file('data/train/train.txt')\n",
    "dev_data, dev_labels = read_file('data/dev/dev.txt')"
   ]
  },
  {
   "cell_type": "code",
   "execution_count": 33,
   "metadata": {
    "collapsed": false
   },
   "outputs": [
    {
     "data": {
      "text/plain": [
       "'@paulwalk'"
      ]
     },
     "execution_count": 33,
     "metadata": {},
     "output_type": "execute_result"
    }
   ],
   "source": [
    "train_data[0][0]"
   ]
  },
  {
   "cell_type": "code",
   "execution_count": 34,
   "metadata": {
    "collapsed": true
   },
   "outputs": [],
   "source": [
    "test_data = read_no_labels('data/test/test.nolabels.txt')"
   ]
  },
  {
   "cell_type": "markdown",
   "metadata": {},
   "source": [
    "# Feature Engineering"
   ]
  },
  {
   "cell_type": "markdown",
   "metadata": {},
   "source": [
    "## POS tagging"
   ]
  },
  {
   "cell_type": "code",
   "execution_count": 31,
   "metadata": {
    "collapsed": false
   },
   "outputs": [],
   "source": [
    "# Load Google's pre-trained Word2Vec model.\n",
    "model = gensim.models.KeyedVectors.load_word2vec_format('../GoogleNews-vectors-negative300.bin', binary=True)"
   ]
  },
  {
   "cell_type": "code",
   "execution_count": 60,
   "metadata": {
    "collapsed": false
   },
   "outputs": [],
   "source": [
    "def get_word_vec(word):\n",
    "    try:\n",
    "        return model[word]\n",
    "    except KeyError:\n",
    "        return ['NULL']*300"
   ]
  },
  {
   "cell_type": "code",
   "execution_count": 36,
   "metadata": {
    "collapsed": false
   },
   "outputs": [],
   "source": [
    "train_data = [nltk.pos_tag(train_data[i]) for i in range(len(train_data))]\n",
    "dev_data = [nltk.pos_tag(dev_data[i]) for i in range(len(dev_data))]\n",
    "test_data = [nltk.pos_tag(test_data[i]) for i in range(len(test_data))]"
   ]
  },
  {
   "cell_type": "markdown",
   "metadata": {},
   "source": [
    "## Word Feature"
   ]
  },
  {
   "cell_type": "code",
   "execution_count": 71,
   "metadata": {
    "collapsed": false
   },
   "outputs": [],
   "source": [
    "def Word2Features(sentence, pos):\n",
    "    features = {}\n",
    "    features.update(current_word_features(sentence[pos][0]))\n",
    "    features.update(w2vfeatuers(sentence[pos][0]))\n",
    "    if pos > 0:\n",
    "        features.update(prev_word_features(sentence[pos-1][0]))\n",
    "    else:\n",
    "        features.update(begin_of_sentence())\n",
    "    \n",
    "    if pos < len(sentence)-1:\n",
    "        features.update(next_word_features(sentence[pos+1][0]))\n",
    "    else:\n",
    "        features.update(end_of_sentence())\n",
    "        \n",
    "    features.update(tag_features(sentence,pos))\n",
    "    return features\n",
    "        \n",
    "def current_word_features(word):\n",
    "    return {\n",
    "#         'bias': 1.0,\n",
    "        'lower': word.lower(),\n",
    "        'suffix_4': word[-4:],\n",
    "        'suffix_3': word[-3:],\n",
    "        'suffix_2': word[-2:],\n",
    "        'isupper': word.isupper(),\n",
    "        'istitle': word.istitle(),\n",
    "        'isdigit': word.isdigit(),\n",
    "    }\n",
    "\n",
    "def w2vfeatuers(word):\n",
    "    w2vfeatures = {}\n",
    "    for index, letter in enumerate(get_word_vec(word)):\n",
    "        w2vfeatures.update({'wv_value'+str(index): letter})\n",
    "    return w2vfeatures\n",
    "\n",
    "def prev_word_features(word):\n",
    "    return {\n",
    "        'prev_lower': word.lower(),\n",
    "        'prev_istitle': word.istitle(),\n",
    "        'prev_isupper': word.isupper(),\n",
    "    }\n",
    "\n",
    "def next_word_features(word):\n",
    "    return {\n",
    "        'next_lower': word.lower(),\n",
    "        'next_istitle': word.istitle(),\n",
    "        'next_isupper': word.isupper(),\n",
    "    }\n",
    "\n",
    "def tag_features(sentence, pos):\n",
    "    pos_features = {'pos[0]': sentence[pos][1]}\n",
    "    prev_pos_tag = sentence[pos-1][1] if pos > 0 else 'NULL'\n",
    "    next_pos_tag = sentence[pos+1][1] if pos < len(sentence)-1 else 'NULL'\n",
    "    pos_features.update({\n",
    "        'pos[-1]|pos[0]': prev_pos_tag + '|' + sentence[pos][1],\n",
    "        'pos[0]|pos[+1]': sentence[pos][1] + '|' + next_pos_tag,\n",
    "        'pos[-1]|pos[0]|pos[+1]': prev_pos_tag + '|' + sentence[pos][1] + '|' + next_pos_tag,\n",
    "        \n",
    "    })\n",
    "    return pos_features\n",
    "\n",
    "def begin_of_sentence():\n",
    "    return {'BOS': True}\n",
    "\n",
    "def end_of_sentence():\n",
    "    return {'EOS': True}"
   ]
  },
  {
   "cell_type": "code",
   "execution_count": 72,
   "metadata": {
    "collapsed": false
   },
   "outputs": [],
   "source": [
    "X_train = [[Word2Features(s, pos) for pos in range(len(s))] for s in train_data]\n",
    "y_train = train_labels\n",
    "\n",
    "X_dev = [[Word2Features(s, pos) for pos in range(len(s))] for s in dev_data]\n",
    "y_dev = dev_labels"
   ]
  },
  {
   "cell_type": "code",
   "execution_count": 73,
   "metadata": {
    "collapsed": false
   },
   "outputs": [
    {
     "data": {
      "text/plain": [
       "{'BOS': True,\n",
       " 'isdigit': False,\n",
       " 'istitle': False,\n",
       " 'isupper': False,\n",
       " 'lower': '@paulwalk',\n",
       " 'next_istitle': True,\n",
       " 'next_isupper': False,\n",
       " 'next_lower': 'it',\n",
       " 'pos[-1]|pos[0]': 'NULL|VB',\n",
       " 'pos[-1]|pos[0]|pos[+1]': 'NULL|VB|PRP',\n",
       " 'pos[0]': 'VB',\n",
       " 'pos[0]|pos[+1]': 'VB|PRP',\n",
       " 'suffix_2': 'lk',\n",
       " 'suffix_3': 'alk',\n",
       " 'suffix_4': 'walk',\n",
       " 'wv_value0': 'NULL',\n",
       " 'wv_value1': 'NULL',\n",
       " 'wv_value10': 'NULL',\n",
       " 'wv_value100': 'NULL',\n",
       " 'wv_value101': 'NULL',\n",
       " 'wv_value102': 'NULL',\n",
       " 'wv_value103': 'NULL',\n",
       " 'wv_value104': 'NULL',\n",
       " 'wv_value105': 'NULL',\n",
       " 'wv_value106': 'NULL',\n",
       " 'wv_value107': 'NULL',\n",
       " 'wv_value108': 'NULL',\n",
       " 'wv_value109': 'NULL',\n",
       " 'wv_value11': 'NULL',\n",
       " 'wv_value110': 'NULL',\n",
       " 'wv_value111': 'NULL',\n",
       " 'wv_value112': 'NULL',\n",
       " 'wv_value113': 'NULL',\n",
       " 'wv_value114': 'NULL',\n",
       " 'wv_value115': 'NULL',\n",
       " 'wv_value116': 'NULL',\n",
       " 'wv_value117': 'NULL',\n",
       " 'wv_value118': 'NULL',\n",
       " 'wv_value119': 'NULL',\n",
       " 'wv_value12': 'NULL',\n",
       " 'wv_value120': 'NULL',\n",
       " 'wv_value121': 'NULL',\n",
       " 'wv_value122': 'NULL',\n",
       " 'wv_value123': 'NULL',\n",
       " 'wv_value124': 'NULL',\n",
       " 'wv_value125': 'NULL',\n",
       " 'wv_value126': 'NULL',\n",
       " 'wv_value127': 'NULL',\n",
       " 'wv_value128': 'NULL',\n",
       " 'wv_value129': 'NULL',\n",
       " 'wv_value13': 'NULL',\n",
       " 'wv_value130': 'NULL',\n",
       " 'wv_value131': 'NULL',\n",
       " 'wv_value132': 'NULL',\n",
       " 'wv_value133': 'NULL',\n",
       " 'wv_value134': 'NULL',\n",
       " 'wv_value135': 'NULL',\n",
       " 'wv_value136': 'NULL',\n",
       " 'wv_value137': 'NULL',\n",
       " 'wv_value138': 'NULL',\n",
       " 'wv_value139': 'NULL',\n",
       " 'wv_value14': 'NULL',\n",
       " 'wv_value140': 'NULL',\n",
       " 'wv_value141': 'NULL',\n",
       " 'wv_value142': 'NULL',\n",
       " 'wv_value143': 'NULL',\n",
       " 'wv_value144': 'NULL',\n",
       " 'wv_value145': 'NULL',\n",
       " 'wv_value146': 'NULL',\n",
       " 'wv_value147': 'NULL',\n",
       " 'wv_value148': 'NULL',\n",
       " 'wv_value149': 'NULL',\n",
       " 'wv_value15': 'NULL',\n",
       " 'wv_value150': 'NULL',\n",
       " 'wv_value151': 'NULL',\n",
       " 'wv_value152': 'NULL',\n",
       " 'wv_value153': 'NULL',\n",
       " 'wv_value154': 'NULL',\n",
       " 'wv_value155': 'NULL',\n",
       " 'wv_value156': 'NULL',\n",
       " 'wv_value157': 'NULL',\n",
       " 'wv_value158': 'NULL',\n",
       " 'wv_value159': 'NULL',\n",
       " 'wv_value16': 'NULL',\n",
       " 'wv_value160': 'NULL',\n",
       " 'wv_value161': 'NULL',\n",
       " 'wv_value162': 'NULL',\n",
       " 'wv_value163': 'NULL',\n",
       " 'wv_value164': 'NULL',\n",
       " 'wv_value165': 'NULL',\n",
       " 'wv_value166': 'NULL',\n",
       " 'wv_value167': 'NULL',\n",
       " 'wv_value168': 'NULL',\n",
       " 'wv_value169': 'NULL',\n",
       " 'wv_value17': 'NULL',\n",
       " 'wv_value170': 'NULL',\n",
       " 'wv_value171': 'NULL',\n",
       " 'wv_value172': 'NULL',\n",
       " 'wv_value173': 'NULL',\n",
       " 'wv_value174': 'NULL',\n",
       " 'wv_value175': 'NULL',\n",
       " 'wv_value176': 'NULL',\n",
       " 'wv_value177': 'NULL',\n",
       " 'wv_value178': 'NULL',\n",
       " 'wv_value179': 'NULL',\n",
       " 'wv_value18': 'NULL',\n",
       " 'wv_value180': 'NULL',\n",
       " 'wv_value181': 'NULL',\n",
       " 'wv_value182': 'NULL',\n",
       " 'wv_value183': 'NULL',\n",
       " 'wv_value184': 'NULL',\n",
       " 'wv_value185': 'NULL',\n",
       " 'wv_value186': 'NULL',\n",
       " 'wv_value187': 'NULL',\n",
       " 'wv_value188': 'NULL',\n",
       " 'wv_value189': 'NULL',\n",
       " 'wv_value19': 'NULL',\n",
       " 'wv_value190': 'NULL',\n",
       " 'wv_value191': 'NULL',\n",
       " 'wv_value192': 'NULL',\n",
       " 'wv_value193': 'NULL',\n",
       " 'wv_value194': 'NULL',\n",
       " 'wv_value195': 'NULL',\n",
       " 'wv_value196': 'NULL',\n",
       " 'wv_value197': 'NULL',\n",
       " 'wv_value198': 'NULL',\n",
       " 'wv_value199': 'NULL',\n",
       " 'wv_value2': 'NULL',\n",
       " 'wv_value20': 'NULL',\n",
       " 'wv_value200': 'NULL',\n",
       " 'wv_value201': 'NULL',\n",
       " 'wv_value202': 'NULL',\n",
       " 'wv_value203': 'NULL',\n",
       " 'wv_value204': 'NULL',\n",
       " 'wv_value205': 'NULL',\n",
       " 'wv_value206': 'NULL',\n",
       " 'wv_value207': 'NULL',\n",
       " 'wv_value208': 'NULL',\n",
       " 'wv_value209': 'NULL',\n",
       " 'wv_value21': 'NULL',\n",
       " 'wv_value210': 'NULL',\n",
       " 'wv_value211': 'NULL',\n",
       " 'wv_value212': 'NULL',\n",
       " 'wv_value213': 'NULL',\n",
       " 'wv_value214': 'NULL',\n",
       " 'wv_value215': 'NULL',\n",
       " 'wv_value216': 'NULL',\n",
       " 'wv_value217': 'NULL',\n",
       " 'wv_value218': 'NULL',\n",
       " 'wv_value219': 'NULL',\n",
       " 'wv_value22': 'NULL',\n",
       " 'wv_value220': 'NULL',\n",
       " 'wv_value221': 'NULL',\n",
       " 'wv_value222': 'NULL',\n",
       " 'wv_value223': 'NULL',\n",
       " 'wv_value224': 'NULL',\n",
       " 'wv_value225': 'NULL',\n",
       " 'wv_value226': 'NULL',\n",
       " 'wv_value227': 'NULL',\n",
       " 'wv_value228': 'NULL',\n",
       " 'wv_value229': 'NULL',\n",
       " 'wv_value23': 'NULL',\n",
       " 'wv_value230': 'NULL',\n",
       " 'wv_value231': 'NULL',\n",
       " 'wv_value232': 'NULL',\n",
       " 'wv_value233': 'NULL',\n",
       " 'wv_value234': 'NULL',\n",
       " 'wv_value235': 'NULL',\n",
       " 'wv_value236': 'NULL',\n",
       " 'wv_value237': 'NULL',\n",
       " 'wv_value238': 'NULL',\n",
       " 'wv_value239': 'NULL',\n",
       " 'wv_value24': 'NULL',\n",
       " 'wv_value240': 'NULL',\n",
       " 'wv_value241': 'NULL',\n",
       " 'wv_value242': 'NULL',\n",
       " 'wv_value243': 'NULL',\n",
       " 'wv_value244': 'NULL',\n",
       " 'wv_value245': 'NULL',\n",
       " 'wv_value246': 'NULL',\n",
       " 'wv_value247': 'NULL',\n",
       " 'wv_value248': 'NULL',\n",
       " 'wv_value249': 'NULL',\n",
       " 'wv_value25': 'NULL',\n",
       " 'wv_value250': 'NULL',\n",
       " 'wv_value251': 'NULL',\n",
       " 'wv_value252': 'NULL',\n",
       " 'wv_value253': 'NULL',\n",
       " 'wv_value254': 'NULL',\n",
       " 'wv_value255': 'NULL',\n",
       " 'wv_value256': 'NULL',\n",
       " 'wv_value257': 'NULL',\n",
       " 'wv_value258': 'NULL',\n",
       " 'wv_value259': 'NULL',\n",
       " 'wv_value26': 'NULL',\n",
       " 'wv_value260': 'NULL',\n",
       " 'wv_value261': 'NULL',\n",
       " 'wv_value262': 'NULL',\n",
       " 'wv_value263': 'NULL',\n",
       " 'wv_value264': 'NULL',\n",
       " 'wv_value265': 'NULL',\n",
       " 'wv_value266': 'NULL',\n",
       " 'wv_value267': 'NULL',\n",
       " 'wv_value268': 'NULL',\n",
       " 'wv_value269': 'NULL',\n",
       " 'wv_value27': 'NULL',\n",
       " 'wv_value270': 'NULL',\n",
       " 'wv_value271': 'NULL',\n",
       " 'wv_value272': 'NULL',\n",
       " 'wv_value273': 'NULL',\n",
       " 'wv_value274': 'NULL',\n",
       " 'wv_value275': 'NULL',\n",
       " 'wv_value276': 'NULL',\n",
       " 'wv_value277': 'NULL',\n",
       " 'wv_value278': 'NULL',\n",
       " 'wv_value279': 'NULL',\n",
       " 'wv_value28': 'NULL',\n",
       " 'wv_value280': 'NULL',\n",
       " 'wv_value281': 'NULL',\n",
       " 'wv_value282': 'NULL',\n",
       " 'wv_value283': 'NULL',\n",
       " 'wv_value284': 'NULL',\n",
       " 'wv_value285': 'NULL',\n",
       " 'wv_value286': 'NULL',\n",
       " 'wv_value287': 'NULL',\n",
       " 'wv_value288': 'NULL',\n",
       " 'wv_value289': 'NULL',\n",
       " 'wv_value29': 'NULL',\n",
       " 'wv_value290': 'NULL',\n",
       " 'wv_value291': 'NULL',\n",
       " 'wv_value292': 'NULL',\n",
       " 'wv_value293': 'NULL',\n",
       " 'wv_value294': 'NULL',\n",
       " 'wv_value295': 'NULL',\n",
       " 'wv_value296': 'NULL',\n",
       " 'wv_value297': 'NULL',\n",
       " 'wv_value298': 'NULL',\n",
       " 'wv_value299': 'NULL',\n",
       " 'wv_value3': 'NULL',\n",
       " 'wv_value30': 'NULL',\n",
       " 'wv_value31': 'NULL',\n",
       " 'wv_value32': 'NULL',\n",
       " 'wv_value33': 'NULL',\n",
       " 'wv_value34': 'NULL',\n",
       " 'wv_value35': 'NULL',\n",
       " 'wv_value36': 'NULL',\n",
       " 'wv_value37': 'NULL',\n",
       " 'wv_value38': 'NULL',\n",
       " 'wv_value39': 'NULL',\n",
       " 'wv_value4': 'NULL',\n",
       " 'wv_value40': 'NULL',\n",
       " 'wv_value41': 'NULL',\n",
       " 'wv_value42': 'NULL',\n",
       " 'wv_value43': 'NULL',\n",
       " 'wv_value44': 'NULL',\n",
       " 'wv_value45': 'NULL',\n",
       " 'wv_value46': 'NULL',\n",
       " 'wv_value47': 'NULL',\n",
       " 'wv_value48': 'NULL',\n",
       " 'wv_value49': 'NULL',\n",
       " 'wv_value5': 'NULL',\n",
       " 'wv_value50': 'NULL',\n",
       " 'wv_value51': 'NULL',\n",
       " 'wv_value52': 'NULL',\n",
       " 'wv_value53': 'NULL',\n",
       " 'wv_value54': 'NULL',\n",
       " 'wv_value55': 'NULL',\n",
       " 'wv_value56': 'NULL',\n",
       " 'wv_value57': 'NULL',\n",
       " 'wv_value58': 'NULL',\n",
       " 'wv_value59': 'NULL',\n",
       " 'wv_value6': 'NULL',\n",
       " 'wv_value60': 'NULL',\n",
       " 'wv_value61': 'NULL',\n",
       " 'wv_value62': 'NULL',\n",
       " 'wv_value63': 'NULL',\n",
       " 'wv_value64': 'NULL',\n",
       " 'wv_value65': 'NULL',\n",
       " 'wv_value66': 'NULL',\n",
       " 'wv_value67': 'NULL',\n",
       " 'wv_value68': 'NULL',\n",
       " 'wv_value69': 'NULL',\n",
       " 'wv_value7': 'NULL',\n",
       " 'wv_value70': 'NULL',\n",
       " 'wv_value71': 'NULL',\n",
       " 'wv_value72': 'NULL',\n",
       " 'wv_value73': 'NULL',\n",
       " 'wv_value74': 'NULL',\n",
       " 'wv_value75': 'NULL',\n",
       " 'wv_value76': 'NULL',\n",
       " 'wv_value77': 'NULL',\n",
       " 'wv_value78': 'NULL',\n",
       " 'wv_value79': 'NULL',\n",
       " 'wv_value8': 'NULL',\n",
       " 'wv_value80': 'NULL',\n",
       " 'wv_value81': 'NULL',\n",
       " 'wv_value82': 'NULL',\n",
       " 'wv_value83': 'NULL',\n",
       " 'wv_value84': 'NULL',\n",
       " 'wv_value85': 'NULL',\n",
       " 'wv_value86': 'NULL',\n",
       " 'wv_value87': 'NULL',\n",
       " 'wv_value88': 'NULL',\n",
       " 'wv_value89': 'NULL',\n",
       " 'wv_value9': 'NULL',\n",
       " 'wv_value90': 'NULL',\n",
       " 'wv_value91': 'NULL',\n",
       " 'wv_value92': 'NULL',\n",
       " 'wv_value93': 'NULL',\n",
       " 'wv_value94': 'NULL',\n",
       " 'wv_value95': 'NULL',\n",
       " 'wv_value96': 'NULL',\n",
       " 'wv_value97': 'NULL',\n",
       " 'wv_value98': 'NULL',\n",
       " 'wv_value99': 'NULL'}"
      ]
     },
     "execution_count": 73,
     "metadata": {},
     "output_type": "execute_result"
    }
   ],
   "source": [
    "X_train[0][0]"
   ]
  },
  {
   "cell_type": "code",
   "execution_count": 74,
   "metadata": {
    "collapsed": false
   },
   "outputs": [],
   "source": [
    "X_test = [[Word2Features(s, pos) for pos in range(len(s))] for s in test_data]"
   ]
  },
  {
   "cell_type": "code",
   "execution_count": 75,
   "metadata": {
    "collapsed": false
   },
   "outputs": [
    {
     "name": "stdout",
     "output_type": "stream",
     "text": [
      "CPU times: user 34.8 s, sys: 2.05 s, total: 36.9 s\n",
      "Wall time: 38 s\n"
     ]
    }
   ],
   "source": [
    "%%time\n",
    "crf = sklearn_crfsuite.CRF(\n",
    "    algorithm='lbfgs', \n",
    "    c1=0.1, \n",
    "    c2=0.1, \n",
    "    max_iterations=100, \n",
    "    all_possible_transitions=True\n",
    ")\n",
    "crf.fit(X_train, y_train)"
   ]
  },
  {
   "cell_type": "code",
   "execution_count": 76,
   "metadata": {
    "collapsed": false
   },
   "outputs": [
    {
     "data": {
      "text/plain": [
       "['B', 'I']"
      ]
     },
     "execution_count": 76,
     "metadata": {},
     "output_type": "execute_result"
    }
   ],
   "source": [
    "labels = list(crf.classes_)\n",
    "labels.remove('O')\n",
    "labels"
   ]
  },
  {
   "cell_type": "code",
   "execution_count": 77,
   "metadata": {
    "collapsed": true
   },
   "outputs": [],
   "source": [
    "y_train_pred = crf.predict(X_train)"
   ]
  },
  {
   "cell_type": "code",
   "execution_count": 78,
   "metadata": {
    "collapsed": false
   },
   "outputs": [
    {
     "data": {
      "text/plain": [
       "0.58742668427362776"
      ]
     },
     "execution_count": 78,
     "metadata": {},
     "output_type": "execute_result"
    }
   ],
   "source": [
    "y_dev_pred = crf.predict(X_dev)\n",
    "metrics.flat_f1_score(y_dev, y_dev_pred, \n",
    "                      average='weighted', labels=labels)"
   ]
  },
  {
   "cell_type": "code",
   "execution_count": 79,
   "metadata": {
    "collapsed": false
   },
   "outputs": [
    {
     "name": "stdout",
     "output_type": "stream",
     "text": [
      "CPU times: user 3.9 s, sys: 1.93 s, total: 5.83 s\n",
      "Wall time: 7.38 s\n"
     ]
    }
   ],
   "source": [
    "%%time\n",
    "y_test_pred = crf.predict(X_test)"
   ]
  },
  {
   "cell_type": "code",
   "execution_count": 81,
   "metadata": {
    "collapsed": false
   },
   "outputs": [],
   "source": [
    "f = open(\"output-train\",'w')\n",
    "for label_sentence in y_train_pred:\n",
    "    for label_word in label_sentence:\n",
    "        f.write(label_word + '\\n')\n",
    "    f.write('\\n')\n",
    "f.close()"
   ]
  },
  {
   "cell_type": "code",
   "execution_count": null,
   "metadata": {
    "collapsed": true
   },
   "outputs": [],
   "source": []
  },
  {
   "cell_type": "code",
   "execution_count": null,
   "metadata": {
    "collapsed": true
   },
   "outputs": [],
   "source": []
  },
  {
   "cell_type": "code",
   "execution_count": null,
   "metadata": {
    "collapsed": true
   },
   "outputs": [],
   "source": []
  },
  {
   "cell_type": "code",
   "execution_count": null,
   "metadata": {
    "collapsed": true
   },
   "outputs": [],
   "source": []
  }
 ],
 "metadata": {
  "anaconda-cloud": {},
  "kernelspec": {
   "display_name": "Python [TensorFlow]",
   "language": "python",
   "name": "Python [TensorFlow]"
  },
  "language_info": {
   "codemirror_mode": {
    "name": "ipython",
    "version": 3
   },
   "file_extension": ".py",
   "mimetype": "text/x-python",
   "name": "python",
   "nbconvert_exporter": "python",
   "pygments_lexer": "ipython3",
   "version": "3.5.3"
  }
 },
 "nbformat": 4,
 "nbformat_minor": 0
}
